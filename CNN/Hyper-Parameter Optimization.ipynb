{
 "cells": [
  {
   "cell_type": "code",
   "execution_count": 1,
   "metadata": {},
   "outputs": [
    {
     "name": "stderr",
     "output_type": "stream",
     "text": [
      "C:\\Program Files (x86)\\Microsoft Visual Studio\\Shared\\Anaconda3_64\\lib\\site-packages\\h5py\\__init__.py:36: FutureWarning: Conversion of the second argument of issubdtype from `float` to `np.floating` is deprecated. In future, it will be treated as `np.float64 == np.dtype(float).type`.\n",
      "  from ._conv import register_converters as _register_converters\n"
     ]
    }
   ],
   "source": [
    "%matplotlib inline\n",
    "import matplotlib.pyplot as plt\n",
    "import tensorflow as tf\n",
    "import numpy as np\n",
    "import math\n",
    "\n",
    "import skopt\n",
    "from skopt import gp_minimize, forest_minimize\n",
    "from skopt.space import Real, Categorical, Integer\n",
    "from skopt.plots import plot_convergence\n",
    "from skopt.plots import plot_objective, plot_evaluations\n",
    "from skopt.utils import use_named_args"
   ]
  },
  {
   "cell_type": "code",
   "execution_count": 2,
   "metadata": {},
   "outputs": [],
   "source": [
    "from tensorflow.python.keras import backend as K\n",
    "from tensorflow.python.keras.models import Sequential\n",
    "from tensorflow.python.keras.layers import InputLayer, Input\n",
    "from tensorflow.python.keras.layers import Reshape, MaxPooling2D\n",
    "from tensorflow.python.keras.layers import Conv2D, Dense, Flatten\n",
    "from tensorflow.python.keras.callbacks import TensorBoard\n",
    "from tensorflow.python.keras.optimizers import Adam\n",
    "from tensorflow.python.keras.models import load_model"
   ]
  },
  {
   "cell_type": "code",
   "execution_count": 3,
   "metadata": {},
   "outputs": [
    {
     "data": {
      "text/plain": [
       "'1.12.0'"
      ]
     },
     "execution_count": 3,
     "metadata": {},
     "output_type": "execute_result"
    }
   ],
   "source": [
    "tf.__version__"
   ]
  },
  {
   "cell_type": "code",
   "execution_count": 4,
   "metadata": {},
   "outputs": [
    {
     "data": {
      "text/plain": [
       "'2.1.6-tf'"
      ]
     },
     "execution_count": 4,
     "metadata": {},
     "output_type": "execute_result"
    }
   ],
   "source": [
    "tf.keras.__version__"
   ]
  },
  {
   "cell_type": "code",
   "execution_count": 5,
   "metadata": {},
   "outputs": [
    {
     "data": {
      "text/plain": [
       "'0.5.2'"
      ]
     },
     "execution_count": 5,
     "metadata": {},
     "output_type": "execute_result"
    }
   ],
   "source": [
    "skopt.__version__"
   ]
  },
  {
   "cell_type": "code",
   "execution_count": 6,
   "metadata": {},
   "outputs": [],
   "source": [
    "dim_learning_rate = Real(low=1e-6, high=1e-2, prior='log-uniform',\n",
    "                         name='learning_rate')"
   ]
  },
  {
   "cell_type": "code",
   "execution_count": 7,
   "metadata": {},
   "outputs": [],
   "source": [
    "dim_num_dense_layers = Integer(low=1, high=5, name='num_dense_layers')"
   ]
  },
  {
   "cell_type": "code",
   "execution_count": 8,
   "metadata": {},
   "outputs": [],
   "source": [
    "dim_num_dense_nodes = Integer(low=5, high=512, name='num_dense_nodes')"
   ]
  },
  {
   "cell_type": "code",
   "execution_count": 9,
   "metadata": {},
   "outputs": [],
   "source": [
    "dim_activation = Categorical(categories=['relu', 'sigmoid'],\n",
    "                             name='activation')"
   ]
  },
  {
   "cell_type": "code",
   "execution_count": 10,
   "metadata": {},
   "outputs": [],
   "source": [
    "dimensions = [dim_learning_rate,\n",
    "              dim_num_dense_layers,\n",
    "              dim_num_dense_nodes,\n",
    "              dim_activation]"
   ]
  },
  {
   "cell_type": "code",
   "execution_count": 11,
   "metadata": {},
   "outputs": [],
   "source": [
    "default_parameters = [1e-5, 1, 16, 'relu']"
   ]
  },
  {
   "cell_type": "code",
   "execution_count": 12,
   "metadata": {},
   "outputs": [],
   "source": [
    "def log_dir_name(learning_rate, num_dense_layers,\n",
    "                 num_dense_nodes, activation):\n",
    "\n",
    "    # The dir-name for the TensorBoard log-dir.\n",
    "    s = \"./logs/lr_{0:.0e}_layers_{1}_nodes_{2}_{3}/\"\n",
    "\n",
    "    # Insert all the hyper-parameters in the dir-name.\n",
    "    log_dir = s.format(learning_rate,\n",
    "                       num_dense_layers,\n",
    "                       num_dense_nodes,\n",
    "                       activation)\n",
    "\n",
    "    return log_dir"
   ]
  },
  {
   "cell_type": "code",
   "execution_count": 13,
   "metadata": {},
   "outputs": [
    {
     "name": "stdout",
     "output_type": "stream",
     "text": [
      "WARNING:tensorflow:From <ipython-input-13-f33d488df759>:2: read_data_sets (from tensorflow.contrib.learn.python.learn.datasets.mnist) is deprecated and will be removed in a future version.\n",
      "Instructions for updating:\n",
      "Please use alternatives such as official/mnist/dataset.py from tensorflow/models.\n",
      "WARNING:tensorflow:From C:\\Program Files (x86)\\Microsoft Visual Studio\\Shared\\Anaconda3_64\\lib\\site-packages\\tensorflow\\contrib\\learn\\python\\learn\\datasets\\mnist.py:260: maybe_download (from tensorflow.contrib.learn.python.learn.datasets.base) is deprecated and will be removed in a future version.\n",
      "Instructions for updating:\n",
      "Please write your own downloading logic.\n",
      "WARNING:tensorflow:From C:\\Program Files (x86)\\Microsoft Visual Studio\\Shared\\Anaconda3_64\\lib\\site-packages\\tensorflow\\contrib\\learn\\python\\learn\\datasets\\mnist.py:262: extract_images (from tensorflow.contrib.learn.python.learn.datasets.mnist) is deprecated and will be removed in a future version.\n",
      "Instructions for updating:\n",
      "Please use tf.data to implement this functionality.\n",
      "Extracting mnist/train-images-idx3-ubyte.gz\n",
      "WARNING:tensorflow:From C:\\Program Files (x86)\\Microsoft Visual Studio\\Shared\\Anaconda3_64\\lib\\site-packages\\tensorflow\\contrib\\learn\\python\\learn\\datasets\\mnist.py:267: extract_labels (from tensorflow.contrib.learn.python.learn.datasets.mnist) is deprecated and will be removed in a future version.\n",
      "Instructions for updating:\n",
      "Please use tf.data to implement this functionality.\n",
      "Extracting mnist/train-labels-idx1-ubyte.gz\n",
      "WARNING:tensorflow:From C:\\Program Files (x86)\\Microsoft Visual Studio\\Shared\\Anaconda3_64\\lib\\site-packages\\tensorflow\\contrib\\learn\\python\\learn\\datasets\\mnist.py:110: dense_to_one_hot (from tensorflow.contrib.learn.python.learn.datasets.mnist) is deprecated and will be removed in a future version.\n",
      "Instructions for updating:\n",
      "Please use tf.one_hot on tensors.\n",
      "Extracting mnist/t10k-images-idx3-ubyte.gz\n",
      "Extracting mnist/t10k-labels-idx1-ubyte.gz\n",
      "WARNING:tensorflow:From C:\\Program Files (x86)\\Microsoft Visual Studio\\Shared\\Anaconda3_64\\lib\\site-packages\\tensorflow\\contrib\\learn\\python\\learn\\datasets\\mnist.py:290: DataSet.__init__ (from tensorflow.contrib.learn.python.learn.datasets.mnist) is deprecated and will be removed in a future version.\n",
      "Instructions for updating:\n",
      "Please use alternatives such as official/mnist/dataset.py from tensorflow/models.\n"
     ]
    }
   ],
   "source": [
    "from tensorflow.examples.tutorials.mnist import input_data\n",
    "data = input_data.read_data_sets('mnist/', one_hot = True)"
   ]
  },
  {
   "cell_type": "code",
   "execution_count": 14,
   "metadata": {},
   "outputs": [
    {
     "name": "stdout",
     "output_type": "stream",
     "text": [
      "Size of:\n",
      "- Training-set:\t\t55000\n",
      "- Test-set:\t\t10000\n",
      "- Validation-set:\t5000\n"
     ]
    }
   ],
   "source": [
    "print(\"Size of:\")\n",
    "print(\"- Training-set:\\t\\t{}\".format(len(data.train.labels)))\n",
    "print(\"- Test-set:\\t\\t{}\".format(len(data.test.labels)))\n",
    "print(\"- Validation-set:\\t{}\".format(len(data.validation.labels)))"
   ]
  },
  {
   "cell_type": "code",
   "execution_count": 15,
   "metadata": {},
   "outputs": [],
   "source": [
    "data.test.cls = np.argmax(data.test.labels, axis=1)"
   ]
  },
  {
   "cell_type": "code",
   "execution_count": 16,
   "metadata": {},
   "outputs": [],
   "source": [
    "validation_data = (data.validation.images, data.validation.labels)"
   ]
  },
  {
   "cell_type": "code",
   "execution_count": 17,
   "metadata": {},
   "outputs": [],
   "source": [
    "# We know that MNIST images are 28 pixels in each dimension.\n",
    "img_size = 28\n",
    "\n",
    "# Images are stored in one-dimensional arrays of this length.\n",
    "img_size_flat = img_size * img_size\n",
    "\n",
    "# Tuple with height and width of images used to reshape arrays.\n",
    "# This is used for plotting the images.\n",
    "img_shape = (img_size, img_size)\n",
    "\n",
    "# Tuple with height, width and depth used to reshape arrays.\n",
    "# This is used for reshaping in Keras.\n",
    "img_shape_full = (img_size, img_size, 1)\n",
    "\n",
    "# Number of colour channels for the images: 1 channel for gray-scale.\n",
    "num_channels = 1\n",
    "\n",
    "# Number of classes, one class for each of 10 digits.\n",
    "num_classes = 10"
   ]
  },
  {
   "cell_type": "code",
   "execution_count": 18,
   "metadata": {},
   "outputs": [],
   "source": [
    "def plot_images(images, cls_true, cls_pred=None):\n",
    "    assert len(images) == len(cls_true) == 9\n",
    "    \n",
    "    # Create figure with 3x3 sub-plots.\n",
    "    fig, axes = plt.subplots(3, 3)\n",
    "    fig.subplots_adjust(hspace=0.3, wspace=0.3)\n",
    "\n",
    "    for i, ax in enumerate(axes.flat):\n",
    "        # Plot image.\n",
    "        ax.imshow(images[i].reshape(img_shape), cmap='binary')\n",
    "\n",
    "        # Show true and predicted classes.\n",
    "        if cls_pred is None:\n",
    "            xlabel = \"True: {0}\".format(cls_true[i])\n",
    "        else:\n",
    "            xlabel = \"True: {0}, Pred: {1}\".format(cls_true[i], cls_pred[i])\n",
    "\n",
    "        # Show the classes as the label on the x-axis.\n",
    "        ax.set_xlabel(xlabel)\n",
    "        \n",
    "        # Remove ticks from the plot.\n",
    "        ax.set_xticks([])\n",
    "        ax.set_yticks([])\n",
    "    \n",
    "    # Ensure the plot is shown correctly with multiple plots\n",
    "    # in a single Notebook cell.\n",
    "    plt.show()"
   ]
  },
  {
   "cell_type": "code",
   "execution_count": 19,
   "metadata": {},
   "outputs": [
    {
     "data": {
      "image/png": "[encoded data removed]",
      "text/plain": [
       "<Figure size 432x288 with 9 Axes>"
      ]
     },
     "metadata": {},
     "output_type": "display_data"
    }
   ],
   "source": [
    "# Get the first images from the test-set.\n",
    "images = data.test.images[0:9]\n",
    "\n",
    "# Get the true classes for those images.\n",
    "cls_true = data.test.cls[0:9]\n",
    "\n",
    "# Plot the images and labels using our helper-function above.\n",
    "plot_images(images=images, cls_true=cls_true)"
   ]
  },
  {
   "cell_type": "code",
   "execution_count": 20,
   "metadata": {},
   "outputs": [],
   "source": [
    "def plot_example_errors(cls_pred):\n",
    "    # cls_pred is an array of the predicted class-number for\n",
    "    # all images in the test-set.\n",
    "\n",
    "    # Boolean array whether the predicted class is incorrect.\n",
    "    incorrect = (cls_pred != data.test.cls)\n",
    "\n",
    "    # Get the images from the test-set that have been\n",
    "    # incorrectly classified.\n",
    "    images = data.test.images[incorrect]\n",
    "    \n",
    "    # Get the predicted classes for those images.\n",
    "    cls_pred = cls_pred[incorrect]\n",
    "\n",
    "    # Get the true classes for those images.\n",
    "    cls_true = data.test.cls[incorrect]\n",
    "    \n",
    "    # Plot the first 9 images.\n",
    "    plot_images(images=images[0:9],\n",
    "                cls_true=cls_true[0:9],\n",
    "                cls_pred=cls_pred[0:9])"
   ]
  },
  {
   "cell_type": "code",
   "execution_count": 21,
   "metadata": {},
   "outputs": [],
   "source": [
    "def create_model(learning_rate, num_dense_layers,\n",
    "                 num_dense_nodes, activation):\n",
    "    \"\"\"\n",
    "    Hyper-parameters:\n",
    "    learning_rate:     Learning-rate for the optimizer.\n",
    "    num_dense_layers:  Number of dense layers.\n",
    "    num_dense_nodes:   Number of nodes in each dense layer.\n",
    "    activation:        Activation function for all layers.\n",
    "    \"\"\"\n",
    "    \n",
    "    # Start construction of a Keras Sequential model.\n",
    "    model = Sequential()\n",
    "\n",
    "    # Add an input layer which is similar to a feed_dict in TensorFlow.\n",
    "    # Note that the input-shape must be a tuple containing the image-size.\n",
    "    model.add(InputLayer(input_shape=(img_size_flat,)))\n",
    "\n",
    "    # The input from MNIST is a flattened array with 784 elements,\n",
    "    # but the convolutional layers expect images with shape (28, 28, 1)\n",
    "    model.add(Reshape(img_shape_full))\n",
    "\n",
    "    # First convolutional layer.\n",
    "    # There are many hyper-parameters in this layer, but we only\n",
    "    # want to optimize the activation-function in this example.\n",
    "    model.add(Conv2D(kernel_size=5, strides=1, filters=16, padding='same',\n",
    "                     activation=activation, name='layer_conv1'))\n",
    "    model.add(MaxPooling2D(pool_size=2, strides=2))\n",
    "\n",
    "    # Second convolutional layer.\n",
    "    # Again, we only want to optimize the activation-function here.\n",
    "    model.add(Conv2D(kernel_size=5, strides=1, filters=36, padding='same',\n",
    "                     activation=activation, name='layer_conv2'))\n",
    "    model.add(MaxPooling2D(pool_size=2, strides=2))\n",
    "\n",
    "    # Flatten the 4-rank output of the convolutional layers\n",
    "    # to 2-rank that can be input to a fully-connected / dense layer.\n",
    "    model.add(Flatten())\n",
    "\n",
    "    # Add fully-connected / dense layers.\n",
    "    # The number of layers is a hyper-parameter we want to optimize.\n",
    "    for i in range(num_dense_layers):\n",
    "        # Name of the layer. This is not really necessary\n",
    "        # because Keras should give them unique names.\n",
    "        name = 'layer_dense_{0}'.format(i+1)\n",
    "\n",
    "        # Add the dense / fully-connected layer to the model.\n",
    "        # This has two hyper-parameters we want to optimize:\n",
    "        # The number of nodes and the activation function.\n",
    "        model.add(Dense(num_dense_nodes,\n",
    "                        activation=activation,\n",
    "                        name=name))\n",
    "\n",
    "    # Last fully-connected / dense layer with softmax-activation\n",
    "    # for use in classification.\n",
    "    model.add(Dense(num_classes, activation='softmax'))\n",
    "    \n",
    "    # Use the Adam method for training the network.\n",
    "    # We want to find the best learning-rate for the Adam method.\n",
    "    optimizer = Adam(lr=learning_rate)\n",
    "    \n",
    "    # In Keras we need to compile the model so it can be trained.\n",
    "    model.compile(optimizer=optimizer,\n",
    "                  loss='categorical_crossentropy',\n",
    "                  metrics=['accuracy'])\n",
    "    \n",
    "    return model"
   ]
  },
  {
   "cell_type": "code",
   "execution_count": 22,
   "metadata": {},
   "outputs": [],
   "source": [
    "path_best_model = 'best_model.keras'"
   ]
  },
  {
   "cell_type": "code",
   "execution_count": 23,
   "metadata": {},
   "outputs": [],
   "source": [
    "best_accuracy = 0.0"
   ]
  },
  {
   "cell_type": "code",
   "execution_count": 24,
   "metadata": {},
   "outputs": [],
   "source": [
    "@use_named_args(dimensions=dimensions)\n",
    "def fitness(learning_rate, num_dense_layers,\n",
    "            num_dense_nodes, activation):\n",
    "    \"\"\"\n",
    "    Hyper-parameters:\n",
    "    learning_rate:     Learning-rate for the optimizer.\n",
    "    num_dense_layers:  Number of dense layers.\n",
    "    num_dense_nodes:   Number of nodes in each dense layer.\n",
    "    activation:        Activation function for all layers.\n",
    "    \"\"\"\n",
    "\n",
    "    # Print the hyper-parameters.\n",
    "    print('learning rate: {0:.1e}'.format(learning_rate))\n",
    "    print('num_dense_layers:', num_dense_layers)\n",
    "    print('num_dense_nodes:', num_dense_nodes)\n",
    "    print('activation:', activation)\n",
    "    print()\n",
    "    \n",
    "    # Create the neural network with these hyper-parameters.\n",
    "    model = create_model(learning_rate=learning_rate,\n",
    "                         num_dense_layers=num_dense_layers,\n",
    "                         num_dense_nodes=num_dense_nodes,\n",
    "                         activation=activation)\n",
    "\n",
    "    # Dir-name for the TensorBoard log-files.\n",
    "    log_dir = log_dir_name(learning_rate, num_dense_layers,\n",
    "                           num_dense_nodes, activation)\n",
    "    \n",
    "    # Create a callback-function for Keras which will be\n",
    "    # run after each epoch has ended during training.\n",
    "    # This saves the log-files for TensorBoard.\n",
    "    # Note that there are complications when histogram_freq=1.\n",
    "    # It might give strange errors and it also does not properly\n",
    "    # support Keras data-generators for the validation-set.\n",
    "    callback_log = TensorBoard(\n",
    "        log_dir=log_dir,\n",
    "        histogram_freq=0,\n",
    "        batch_size=32,\n",
    "        write_graph=True,\n",
    "        write_grads=False,\n",
    "        write_images=False)\n",
    "   \n",
    "    # Use Keras to train the model.\n",
    "    history = model.fit(x=data.train.images,\n",
    "                        y=data.train.labels,\n",
    "                        epochs=3,\n",
    "                        batch_size=128,\n",
    "                        validation_data=validation_data,\n",
    "                        callbacks=[callback_log])\n",
    "\n",
    "    # Get the classification accuracy on the validation-set\n",
    "    # after the last training-epoch.\n",
    "    accuracy = history.history['val_acc'][-1]\n",
    "\n",
    "    # Print the classification accuracy.\n",
    "    print()\n",
    "    print(\"Accuracy: {0:.2%}\".format(accuracy))\n",
    "    print()\n",
    "\n",
    "    # Save the model if it improves on the best-found performance.\n",
    "    # We use the global keyword so we update the variable outside\n",
    "    # of this function.\n",
    "    global best_accuracy\n",
    "\n",
    "    # If the classification accuracy of the saved model is improved ...\n",
    "    if accuracy > best_accuracy:\n",
    "        # Save the new model to harddisk.\n",
    "        model.save(path_best_model)\n",
    "        \n",
    "        # Update the classification accuracy.\n",
    "        best_accuracy = accuracy\n",
    "\n",
    "    # Delete the Keras model with these hyper-parameters from memory.\n",
    "    del model\n",
    "    \n",
    "    # Clear the Keras session, otherwise it will keep adding new\n",
    "    # models to the same TensorFlow graph each time we create\n",
    "    # a model with a different set of hyper-parameters.\n",
    "    K.clear_session()\n",
    "    \n",
    "    # NOTE: Scikit-optimize does minimization so it tries to\n",
    "    # find a set of hyper-parameters with the LOWEST fitness-value.\n",
    "    # Because we are interested in the HIGHEST classification\n",
    "    # accuracy, we need to negate this number so it can be minimized.\n",
    "    return -accuracy"
   ]
  },
  {
   "cell_type": "code",
   "execution_count": 25,
   "metadata": {},
   "outputs": [
    {
     "name": "stdout",
     "output_type": "stream",
     "text": [
      "learning rate: 1.0e-05\n",
      "num_dense_layers: 1\n",
      "num_dense_nodes: 16\n",
      "activation: relu\n",
      "\n",
      "Train on 55000 samples, validate on 5000 samples\n",
      "Epoch 1/3\n",
      "55000/55000 [==============================] - 103s 2ms/step - loss: 2.2281 - acc: 0.2184 - val_loss: 2.1213 - val_acc: 0.3156\n",
      "Epoch 2/3\n",
      "55000/55000 [==============================] - 99s 2ms/step - loss: 1.9659 - acc: 0.3984 - val_loss: 1.7715 - val_acc: 0.4954\n",
      "Epoch 3/3\n",
      "55000/55000 [==============================] - 103s 2ms/step - loss: 1.5683 - acc: 0.6183 - val_loss: 1.3481 - val_acc: 0.7208\n",
      "\n",
      "Accuracy: 72.08%\n",
      "\n"
     ]
    },
    {
     "data": {
      "text/plain": [
       "-0.7208"
      ]
     },
     "execution_count": 25,
     "metadata": {},
     "output_type": "execute_result"
    }
   ],
   "source": [
    "fitness(x=default_parameters)"
   ]
  },
  {
   "cell_type": "code",
   "execution_count": 26,
   "metadata": {},
   "outputs": [
    {
     "name": "stdout",
     "output_type": "stream",
     "text": [
      "learning rate: 1.0e-05\n",
      "num_dense_layers: 1\n",
      "num_dense_nodes: 16\n",
      "activation: relu\n",
      "\n",
      "Train on 55000 samples, validate on 5000 samples\n",
      "Epoch 1/3\n",
      "55000/55000 [==============================] - 103s 2ms/step - loss: 2.2309 - acc: 0.2655 - val_loss: 2.1297 - val_acc: 0.4324\n",
      "Epoch 2/3\n",
      "55000/55000 [==============================] - 100s 2ms/step - loss: 1.9772 - acc: 0.5436 - val_loss: 1.7889 - val_acc: 0.6288\n",
      "Epoch 3/3\n",
      "55000/55000 [==============================] - 101s 2ms/step - loss: 1.5812 - acc: 0.6907 - val_loss: 1.3489 - val_acc: 0.7616\n",
      "\n",
      "Accuracy: 76.16%\n",
      "\n",
      "learning rate: 6.1e-05\n",
      "num_dense_layers: 2\n",
      "num_dense_nodes: 369\n",
      "activation: sigmoid\n",
      "\n",
      "Train on 55000 samples, validate on 5000 samples\n",
      "Epoch 1/3\n",
      "55000/55000 [==============================] - 111s 2ms/step - loss: 2.3081 - acc: 0.1080 - val_loss: 2.3016 - val_acc: 0.1002\n",
      "Epoch 2/3\n",
      "55000/55000 [==============================] - 107s 2ms/step - loss: 2.2940 - acc: 0.1309 - val_loss: 2.2626 - val_acc: 0.2078\n",
      "Epoch 3/3\n",
      "55000/55000 [==============================] - 113s 2ms/step - loss: 1.8874 - acc: 0.4590 - val_loss: 1.2800 - val_acc: 0.7048\n",
      "\n",
      "Accuracy: 70.48%\n",
      "\n",
      "learning rate: 4.4e-06\n",
      "num_dense_layers: 1\n",
      "num_dense_nodes: 212\n",
      "activation: sigmoid\n",
      "\n",
      "Train on 55000 samples, validate on 5000 samples\n",
      "Epoch 1/3\n",
      "55000/55000 [==============================] - 102s 2ms/step - loss: 2.3580 - acc: 0.1055 - val_loss: 2.3015 - val_acc: 0.1126\n",
      "Epoch 2/3\n",
      "55000/55000 [==============================] - 107s 2ms/step - loss: 2.3014 - acc: 0.1123 - val_loss: 2.3002 - val_acc: 0.1126\n",
      "Epoch 3/3\n",
      "55000/55000 [==============================] - 114s 2ms/step - loss: 2.3011 - acc: 0.1139 - val_loss: 2.3005 - val_acc: 0.1126\n",
      "\n",
      "Accuracy: 11.26%\n",
      "\n",
      "learning rate: 6.9e-03\n",
      "num_dense_layers: 4\n",
      "num_dense_nodes: 233\n",
      "activation: sigmoid\n",
      "\n",
      "Train on 55000 samples, validate on 5000 samples\n",
      "Epoch 1/3\n",
      "55000/55000 [==============================] - 116s 2ms/step - loss: 2.3169 - acc: 0.1099 - val_loss: 2.3015 - val_acc: 0.1126\n",
      "Epoch 2/3\n",
      "55000/55000 [==============================] - 116s 2ms/step - loss: 2.3017 - acc: 0.1120 - val_loss: 2.3008 - val_acc: 0.1126\n",
      "Epoch 3/3\n",
      "55000/55000 [==============================] - 112s 2ms/step - loss: 2.3017 - acc: 0.1116 - val_loss: 2.3013 - val_acc: 0.1126\n",
      "\n",
      "Accuracy: 11.26%\n",
      "\n",
      "learning rate: 1.8e-05\n",
      "num_dense_layers: 3\n",
      "num_dense_nodes: 204\n",
      "activation: sigmoid\n",
      "\n",
      "Train on 55000 samples, validate on 5000 samples\n",
      "Epoch 1/3\n",
      "  128/55000 [..............................] - ETA: 7:18 - loss: 2.5836 - acc: 0.0703WARNING:tensorflow:Method on_batch_end() is slow compared to the batch update (0.531298). Check your callbacks.\n",
      "  256/55000 [..............................] - ETA: 4:49 - loss: 2.5031 - acc: 0.0898WARNING:tensorflow:Method on_batch_end() is slow compared to the batch update (0.307822). Check your callbacks.\n",
      "55000/55000 [==============================] - 103s 2ms/step - loss: 2.3400 - acc: 0.1023 - val_loss: 2.3015 - val_acc: 0.1126\n",
      "Epoch 2/3\n",
      "55000/55000 [==============================] - 104s 2ms/step - loss: 2.3016 - acc: 0.1115 - val_loss: 2.3010 - val_acc: 0.1126\n",
      "Epoch 3/3\n",
      "55000/55000 [==============================] - 103s 2ms/step - loss: 2.3016 - acc: 0.1123 - val_loss: 2.3011 - val_acc: 0.1126\n",
      "\n",
      "Accuracy: 11.26%\n",
      "\n",
      "learning rate: 1.4e-05\n",
      "num_dense_layers: 4\n",
      "num_dense_nodes: 327\n",
      "activation: relu\n",
      "\n",
      "Train on 55000 samples, validate on 5000 samples\n",
      "Epoch 1/3\n",
      "55000/55000 [==============================] - 110s 2ms/step - loss: 1.4856 - acc: 0.6199 - val_loss: 0.5774 - val_acc: 0.8426\n",
      "Epoch 2/3\n",
      "55000/55000 [==============================] - 115s 2ms/step - loss: 0.4208 - acc: 0.8869 - val_loss: 0.3037 - val_acc: 0.9134\n",
      "Epoch 3/3\n",
      "55000/55000 [==============================] - 112s 2ms/step - loss: 0.2811 - acc: 0.9190 - val_loss: 0.2341 - val_acc: 0.9336\n",
      "\n",
      "Accuracy: 93.36%\n",
      "\n",
      "learning rate: 2.0e-04\n",
      "num_dense_layers: 3\n",
      "num_dense_nodes: 413\n",
      "activation: relu\n",
      "\n",
      "Train on 55000 samples, validate on 5000 samples\n",
      "Epoch 1/3\n",
      "55000/55000 [==============================] - 119s 2ms/step - loss: 0.3965 - acc: 0.8854 - val_loss: 0.1045 - val_acc: 0.9706\n",
      "Epoch 2/3\n",
      "55000/55000 [==============================] - 115s 2ms/step - loss: 0.0922 - acc: 0.9725 - val_loss: 0.0655 - val_acc: 0.9796\n",
      "Epoch 3/3\n",
      "55000/55000 [==============================] - 115s 2ms/step - loss: 0.0595 - acc: 0.9816 - val_loss: 0.0461 - val_acc: 0.9876\n",
      "\n",
      "Accuracy: 98.76%\n",
      "\n",
      "learning rate: 5.9e-05\n",
      "num_dense_layers: 2\n",
      "num_dense_nodes: 320\n",
      "activation: relu\n",
      "\n",
      "Train on 55000 samples, validate on 5000 samples\n",
      "Epoch 1/3\n",
      "55000/55000 [==============================] - 110s 2ms/step - loss: 0.7532 - acc: 0.8155 - val_loss: 0.2458 - val_acc: 0.9308\n",
      "Epoch 2/3\n",
      "55000/55000 [==============================] - 110s 2ms/step - loss: 0.2060 - acc: 0.9404 - val_loss: 0.1566 - val_acc: 0.9576\n",
      "Epoch 3/3\n",
      "55000/55000 [==============================] - 111s 2ms/step - loss: 0.1402 - acc: 0.9591 - val_loss: 0.1117 - val_acc: 0.9686\n",
      "\n",
      "Accuracy: 96.86%\n",
      "\n",
      "learning rate: 1.2e-04\n",
      "num_dense_layers: 4\n",
      "num_dense_nodes: 24\n",
      "activation: sigmoid\n",
      "\n",
      "Train on 55000 samples, validate on 5000 samples\n",
      "Epoch 1/3\n",
      "55000/55000 [==============================] - 101s 2ms/step - loss: 2.3152 - acc: 0.1030 - val_loss: 2.3020 - val_acc: 0.1126\n",
      "Epoch 2/3\n",
      "55000/55000 [==============================] - 101s 2ms/step - loss: 2.3015 - acc: 0.1123 - val_loss: 2.3011 - val_acc: 0.1126\n",
      "Epoch 3/3\n",
      "55000/55000 [==============================] - 101s 2ms/step - loss: 2.3014 - acc: 0.1123 - val_loss: 2.3009 - val_acc: 0.1126\n",
      "\n",
      "Accuracy: 11.26%\n",
      "\n",
      "learning rate: 8.7e-05\n",
      "num_dense_layers: 1\n",
      "num_dense_nodes: 115\n",
      "activation: sigmoid\n",
      "\n",
      "Train on 55000 samples, validate on 5000 samples\n",
      "Epoch 1/3\n",
      "55000/55000 [==============================] - 105s 2ms/step - loss: 2.3043 - acc: 0.1179 - val_loss: 2.2870 - val_acc: 0.1126\n",
      "Epoch 2/3\n",
      "55000/55000 [==============================] - 103s 2ms/step - loss: 2.1306 - acc: 0.3347 - val_loss: 1.7370 - val_acc: 0.5638\n",
      "Epoch 3/3\n",
      "55000/55000 [==============================] - 105s 2ms/step - loss: 1.2667 - acc: 0.7112 - val_loss: 0.9286 - val_acc: 0.7870\n",
      "\n",
      "Accuracy: 78.70%\n",
      "\n",
      "learning rate: 1.6e-05\n",
      "num_dense_layers: 5\n",
      "num_dense_nodes: 134\n",
      "activation: relu\n",
      "\n",
      "Train on 55000 samples, validate on 5000 samples\n",
      "Epoch 1/3\n",
      "55000/55000 [==============================] - 104s 2ms/step - loss: 1.8877 - acc: 0.4385 - val_loss: 1.0126 - val_acc: 0.7286\n",
      "Epoch 2/3\n",
      "55000/55000 [==============================] - 105s 2ms/step - loss: 0.6759 - acc: 0.8057 - val_loss: 0.4705 - val_acc: 0.8650\n",
      "Epoch 3/3\n",
      "55000/55000 [==============================] - 106s 2ms/step - loss: 0.4110 - acc: 0.8801 - val_loss: 0.3349 - val_acc: 0.9034\n",
      "\n",
      "Accuracy: 90.34%\n",
      "\n",
      "learning rate: 1.0e-02\n",
      "num_dense_layers: 1\n",
      "num_dense_nodes: 270\n",
      "activation: relu\n",
      "\n",
      "Train on 55000 samples, validate on 5000 samples\n",
      "Epoch 1/3\n",
      "55000/55000 [==============================] - 108s 2ms/step - loss: 0.1346 - acc: 0.9588 - val_loss: 0.0462 - val_acc: 0.9868\n",
      "Epoch 2/3\n",
      "55000/55000 [==============================] - 107s 2ms/step - loss: 0.0546 - acc: 0.9830 - val_loss: 0.0466 - val_acc: 0.9868\n",
      "Epoch 3/3\n",
      "55000/55000 [==============================] - 110s 2ms/step - loss: 0.0478 - acc: 0.9858 - val_loss: 0.0541 - val_acc: 0.9844\n",
      "\n",
      "Accuracy: 98.44%\n",
      "\n",
      "learning rate: 3.7e-03\n",
      "num_dense_layers: 1\n",
      "num_dense_nodes: 460\n",
      "activation: relu\n",
      "\n",
      "Train on 55000 samples, validate on 5000 samples\n",
      "Epoch 1/3\n",
      "55000/55000 [==============================] - 113s 2ms/step - loss: 0.1243 - acc: 0.9606 - val_loss: 0.0576 - val_acc: 0.9836\n",
      "Epoch 2/3\n",
      "55000/55000 [==============================] - 114s 2ms/step - loss: 0.0429 - acc: 0.9868 - val_loss: 0.0536 - val_acc: 0.9828\n",
      "Epoch 3/3\n",
      "55000/55000 [==============================] - 115s 2ms/step - loss: 0.0310 - acc: 0.9902 - val_loss: 0.0406 - val_acc: 0.9900\n",
      "\n",
      "Accuracy: 99.00%\n",
      "\n",
      "learning rate: 2.5e-06\n",
      "num_dense_layers: 1\n",
      "num_dense_nodes: 199\n",
      "activation: relu\n",
      "\n",
      "Train on 55000 samples, validate on 5000 samples\n",
      "Epoch 1/3\n",
      "55000/55000 [==============================] - 107s 2ms/step - loss: 2.2412 - acc: 0.3404 - val_loss: 2.1876 - val_acc: 0.4920\n",
      "Epoch 2/3\n",
      "55000/55000 [==============================] - 107s 2ms/step - loss: 2.1212 - acc: 0.5999 - val_loss: 2.0423 - val_acc: 0.6694\n",
      "Epoch 3/3\n",
      "55000/55000 [==============================] - 108s 2ms/step - loss: 1.9491 - acc: 0.7127 - val_loss: 1.8354 - val_acc: 0.7578\n",
      "\n",
      "Accuracy: 75.78%\n",
      "\n",
      "learning rate: 1.0e-02\n",
      "num_dense_layers: 1\n",
      "num_dense_nodes: 294\n",
      "activation: relu\n",
      "\n",
      "Train on 55000 samples, validate on 5000 samples\n",
      "Epoch 1/3\n",
      "33408/55000 [=================>............] - ETA: 42s - loss: 0.2565 - acc: 0.9193WARNING:tensorflow:Method on_batch_end() is slow compared to the batch update (0.310557). Check your callbacks.\n",
      "33536/55000 [=================>............] - ETA: 42s - loss: 0.2556 - acc: 0.9196WARNING:tensorflow:Method on_batch_end() is slow compared to the batch update (0.310557). Check your callbacks.\n",
      "33664/55000 [=================>............] - ETA: 42s - loss: 0.2549 - acc: 0.9198WARNING:tensorflow:Method on_batch_end() is slow compared to the batch update (0.310557). Check your callbacks.\n",
      "33792/55000 [=================>............] - ETA: 42s - loss: 0.2545 - acc: 0.9199WARNING:tensorflow:Method on_batch_end() is slow compared to the batch update (0.310557). Check your callbacks.\n",
      "33920/55000 [=================>............] - ETA: 42s - loss: 0.2536 - acc: 0.9202WARNING:tensorflow:Method on_batch_end() is slow compared to the batch update (0.310557). Check your callbacks.\n",
      "34048/55000 [=================>............] - ETA: 41s - loss: 0.2532 - acc: 0.9203WARNING:tensorflow:Method on_batch_end() is slow compared to the batch update (0.236391). Check your callbacks.\n",
      "55000/55000 [==============================] - 111s 2ms/step - loss: 0.1890 - acc: 0.9405 - val_loss: 0.0653 - val_acc: 0.9818\n",
      "Epoch 2/3\n",
      "55000/55000 [==============================] - 111s 2ms/step - loss: 0.0595 - acc: 0.9815 - val_loss: 0.0670 - val_acc: 0.9816\n",
      "Epoch 3/3\n",
      "55000/55000 [==============================] - 111s 2ms/step - loss: 0.0539 - acc: 0.9839 - val_loss: 0.0636 - val_acc: 0.9792\n",
      "\n",
      "Accuracy: 97.92%\n",
      "\n",
      "learning rate: 5.1e-06\n",
      "num_dense_layers: 4\n",
      "num_dense_nodes: 512\n",
      "activation: relu\n",
      "\n",
      "Train on 55000 samples, validate on 5000 samples\n",
      "Epoch 1/3\n",
      "55000/55000 [==============================] - 146s 3ms/step - loss: 2.1240 - acc: 0.4538 - val_loss: 1.6970 - val_acc: 0.6562\n",
      "Epoch 2/3\n",
      "55000/55000 [==============================] - 140s 3ms/step - loss: 1.1188 - acc: 0.7567 - val_loss: 0.7193 - val_acc: 0.8204\n",
      "Epoch 3/3\n",
      "55000/55000 [==============================] - 149s 3ms/step - loss: 0.5852 - acc: 0.8485 - val_loss: 0.4671 - val_acc: 0.8760\n",
      "\n",
      "Accuracy: 87.60%\n",
      "\n",
      "learning rate: 3.6e-06\n",
      "num_dense_layers: 2\n",
      "num_dense_nodes: 512\n",
      "activation: sigmoid\n",
      "\n",
      "Train on 55000 samples, validate on 5000 samples\n",
      "Epoch 1/3\n",
      "55000/55000 [==============================] - 130s 2ms/step - loss: 2.3638 - acc: 0.0982 - val_loss: 2.3013 - val_acc: 0.1126\n",
      "Epoch 2/3\n",
      "55000/55000 [==============================] - 125s 2ms/step - loss: 2.3015 - acc: 0.1123 - val_loss: 2.3009 - val_acc: 0.1126\n",
      "Epoch 3/3\n",
      "55000/55000 [==============================] - 126s 2ms/step - loss: 2.3014 - acc: 0.1123 - val_loss: 2.3011 - val_acc: 0.1126\n",
      "\n",
      "Accuracy: 11.26%\n",
      "\n",
      "learning rate: 2.8e-03\n",
      "num_dense_layers: 1\n",
      "num_dense_nodes: 512\n",
      "activation: sigmoid\n",
      "\n",
      "Train on 55000 samples, validate on 5000 samples\n",
      "Epoch 1/3\n",
      "55000/55000 [==============================] - 115s 2ms/step - loss: 1.2148 - acc: 0.5804 - val_loss: 0.2170 - val_acc: 0.9354\n",
      "Epoch 2/3\n",
      "55000/55000 [==============================] - 117s 2ms/step - loss: 0.1628 - acc: 0.9487 - val_loss: 0.1087 - val_acc: 0.9676\n",
      "Epoch 3/3\n",
      "55000/55000 [==============================] - 116s 2ms/step - loss: 0.0993 - acc: 0.9688 - val_loss: 0.0741 - val_acc: 0.9794\n",
      "\n",
      "Accuracy: 97.94%\n",
      "\n",
      "learning rate: 1.0e-02\n",
      "num_dense_layers: 5\n",
      "num_dense_nodes: 5\n",
      "activation: relu\n",
      "\n",
      "Train on 55000 samples, validate on 5000 samples\n",
      "Epoch 1/3\n",
      "55000/55000 [==============================] - 103s 2ms/step - loss: 1.2509 - acc: 0.5048 - val_loss: 0.8082 - val_acc: 0.7142\n",
      "Epoch 2/3\n",
      "55000/55000 [==============================] - 106s 2ms/step - loss: 0.7411 - acc: 0.7761 - val_loss: 0.6881 - val_acc: 0.8002\n",
      "Epoch 3/3\n",
      "55000/55000 [==============================] - 100s 2ms/step - loss: 0.6127 - acc: 0.8339 - val_loss: 0.5056 - val_acc: 0.8756\n",
      "\n",
      "Accuracy: 87.56%\n",
      "\n",
      "learning rate: 7.4e-03\n",
      "num_dense_layers: 2\n",
      "num_dense_nodes: 5\n",
      "activation: relu\n",
      "\n",
      "Train on 55000 samples, validate on 5000 samples\n",
      "Epoch 1/3\n",
      "55000/55000 [==============================] - 103s 2ms/step - loss: 0.4716 - acc: 0.8506 - val_loss: 0.1598 - val_acc: 0.9548\n",
      "Epoch 2/3\n",
      "55000/55000 [==============================] - 104s 2ms/step - loss: 0.1110 - acc: 0.9682 - val_loss: 0.0930 - val_acc: 0.9716\n",
      "Epoch 3/3\n",
      "55000/55000 [==============================] - 101s 2ms/step - loss: 0.0723 - acc: 0.9791 - val_loss: 0.0691 - val_acc: 0.9808\n",
      "\n",
      "Accuracy: 98.08%\n",
      "\n"
     ]
    }
   ],
   "source": [
    "search_result = gp_minimize(func=fitness,\n",
    "                            dimensions=dimensions,\n",
    "                            acq_func='EI', # Expected Improvement.\n",
    "                            n_calls=20,\n",
    "                            x0=default_parameters)"
   ]
  },
  {
   "cell_type": "markdown",
   "metadata": {},
   "source": [
    "## Optimization Progress"
   ]
  },
  {
   "cell_type": "code",
   "execution_count": 30,
   "metadata": {},
   "outputs": [
    {
     "data": {
      "text/plain": [
       "<matplotlib.axes._subplots.AxesSubplot at 0x20e6f4692b0>"
      ]
     },
     "execution_count": 30,
     "metadata": {},
     "output_type": "execute_result"
    },
    {
     "data": {
      "image/png": "[encoded data removed]",
      "text/plain": [
       "<Figure size 432x288 with 1 Axes>"
      ]
     },
     "metadata": {},
     "output_type": "display_data"
    }
   ],
   "source": [
    "plot_convergence(search_result)"
   ]
  },
  {
   "cell_type": "code",
   "execution_count": 32,
   "metadata": {},
   "outputs": [
    {
     "data": {
      "text/plain": [
       "[0.0037128161288043694, 1, 460, 'relu']"
      ]
     },
     "execution_count": 32,
     "metadata": {},
     "output_type": "execute_result"
    }
   ],
   "source": [
    "search_result.x"
   ]
  },
  {
   "cell_type": "code",
   "execution_count": 33,
   "metadata": {},
   "outputs": [
    {
     "data": {
      "text/plain": [
       "[(-0.99, [0.0037128161288043694, 1, 460, 'relu']),\n",
       " (-0.9876, [0.00020302411184140598, 3, 413, 'relu']),\n",
       " (-0.9844, [0.01, 1, 270, 'relu']),\n",
       " (-0.9808, [0.007351259330077166, 2, 5, 'relu']),\n",
       " (-0.9794, [0.0028078912871629543, 1, 512, 'sigmoid']),\n",
       " (-0.9792, [0.01, 1, 294, 'relu']),\n",
       " (-0.9686, [5.895127040290016e-05, 2, 320, 'relu']),\n",
       " (-0.9336, [1.448081668715889e-05, 4, 327, 'relu']),\n",
       " (-0.9034, [1.560435766368658e-05, 5, 134, 'relu']),\n",
       " (-0.876, [5.090916060033857e-06, 4, 512, 'relu']),\n",
       " (-0.8756, [0.01, 5, 5, 'relu']),\n",
       " (-0.787, [8.692612686035482e-05, 1, 115, 'sigmoid']),\n",
       " (-0.7616, [1e-05, 1, 16, 'relu']),\n",
       " (-0.7578, [2.5156927888161717e-06, 1, 199, 'relu']),\n",
       " (-0.7048, [6.125504785290817e-05, 2, 369, 'sigmoid']),\n",
       " (-0.1126, [3.572272674237866e-06, 2, 512, 'sigmoid']),\n",
       " (-0.1126, [4.428864620165878e-06, 1, 212, 'sigmoid']),\n",
       " (-0.1126, [1.7914500917788465e-05, 3, 204, 'sigmoid']),\n",
       " (-0.1126, [0.00012325588426572598, 4, 24, 'sigmoid']),\n",
       " (-0.1126, [0.006917267098251774, 4, 233, 'sigmoid'])]"
      ]
     },
     "execution_count": 33,
     "metadata": {},
     "output_type": "execute_result"
    }
   ],
   "source": [
    "sorted(zip(search_result.func_vals, search_result.x_iters))"
   ]
  },
  {
   "cell_type": "markdown",
   "metadata": {},
   "source": [
    "## Another Plot"
   ]
  },
  {
   "cell_type": "code",
   "execution_count": 43,
   "metadata": {},
   "outputs": [],
   "source": [
    "dim_names = ['learning_rate', 'num_dense_nodes', 'num_dense_layers', 'activation']"
   ]
  },
  {
   "cell_type": "code",
   "execution_count": 51,
   "metadata": {},
   "outputs": [
    {
     "data": {
      "image/png": "[encoded data removed]",
      "text/plain": [
       "<Figure size 576x576 with 16 Axes>"
      ]
     },
     "metadata": {},
     "output_type": "display_data"
    }
   ],
   "source": [
    "_ = plot_evaluations(result=search_result, bins=10)"
   ]
  },
  {
   "cell_type": "markdown",
   "metadata": {},
   "source": [
    "## Evaluate best model on Test-Set"
   ]
  },
  {
   "cell_type": "code",
   "execution_count": 57,
   "metadata": {},
   "outputs": [],
   "source": [
    "model = create_model(search_result.x[0], search_result.x[1], search_result.x[2], search_result.x[3])\n",
    "model.fit(x=data.train.images,\n",
    "                        y=data.train.labels,\n",
    "                        epochs=0,\n",
    "                        batch_size=128)\n",
    "model.load_weights(path_best_model)"
   ]
  },
  {
   "cell_type": "code",
   "execution_count": 58,
   "metadata": {},
   "outputs": [
    {
     "name": "stdout",
     "output_type": "stream",
     "text": [
      "10000/10000 [==============================] - 8s 841us/step\n"
     ]
    }
   ],
   "source": [
    "result = model.evaluate(x=data.test.images, y=data.test.labels)"
   ]
  },
  {
   "cell_type": "code",
   "execution_count": 59,
   "metadata": {},
   "outputs": [
    {
     "name": "stdout",
     "output_type": "stream",
     "text": [
      "loss 0.03550222063123074\n",
      "acc 0.9872\n"
     ]
    }
   ],
   "source": [
    "for name, value in zip(model.metrics_names, result):\n",
    "    print(name, value)"
   ]
  },
  {
   "cell_type": "code",
   "execution_count": 60,
   "metadata": {},
   "outputs": [
    {
     "name": "stdout",
     "output_type": "stream",
     "text": [
      "acc: 98.72%\n"
     ]
    }
   ],
   "source": [
    "print(\"{0}: {1:.2%}\".format(model.metrics_names[1], result[1]))"
   ]
  }
 ],
 "metadata": {
  "kernelspec": {
   "display_name": "Python 3",
   "language": "python",
   "name": "python3"
  },
  "language_info": {
   "codemirror_mode": {
    "name": "ipython",
    "version": 3
   },
   "file_extension": ".py",
   "mimetype": "text/x-python",
   "name": "python",
   "nbconvert_exporter": "python",
   "pygments_lexer": "ipython3",
   "version": "3.6.5"
  }
 },
 "nbformat": 4,
 "nbformat_minor": 2
}
